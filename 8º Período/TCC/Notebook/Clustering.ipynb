{
 "cells": [
  {
   "cell_type": "code",
   "execution_count": 3,
   "metadata": {},
   "outputs": [],
   "source": [
    "import numpy as np \n",
    "import pandas as pd \n",
    "from sklearn.cluster import KMeans\n",
    "import matplotlib.pyplot as pyplot"
   ]
  },
  {
   "cell_type": "markdown",
   "metadata": {},
   "source": [
    "# Reading Data file"
   ]
  },
  {
   "cell_type": "code",
   "execution_count": 4,
   "metadata": {},
   "outputs": [
    {
     "data": {
      "text/plain": [
       "(3834564, 3)"
      ]
     },
     "execution_count": 4,
     "metadata": {},
     "output_type": "execute_result"
    }
   ],
   "source": [
    "data = pd.read_csv(\"roma_calibrated.csv\")\n",
    "data = data[['id', 'long_x','lat_y']]\n",
    "data.shape # Number of instances, number of atributes"
   ]
  },
  {
   "cell_type": "markdown",
   "metadata": {},
   "source": [
    "## Removing all duplicates belonging to the same ID "
   ]
  },
  {
   "cell_type": "code",
   "execution_count": 5,
   "metadata": {},
   "outputs": [
    {
     "data": {
      "text/plain": [
       "(2235826, 3)"
      ]
     },
     "execution_count": 5,
     "metadata": {},
     "output_type": "execute_result"
    }
   ],
   "source": [
    "data.drop_duplicates(subset=['id', 'long_x', 'lat_y'], keep=False, inplace = True)\n",
    "data.shape"
   ]
  },
  {
   "cell_type": "markdown",
   "metadata": {},
   "source": [
    "## Data to be clustered"
   ]
  },
  {
   "cell_type": "code",
   "execution_count": 6,
   "metadata": {},
   "outputs": [],
   "source": [
    "cluster_data = np.array(data[['long_x', 'lat_y']])"
   ]
  },
  {
   "cell_type": "markdown",
   "metadata": {},
   "source": [
    "## Clustering the database with KD-Tree optimization using PyClustering API"
   ]
  },
  {
   "cell_type": "code",
   "execution_count": null,
   "metadata": {},
   "outputs": [],
   "source": [
    "\n",
    "from pyclustering.cluster import cluster_visualizer;\n",
    "from pyclustering.cluster.cure import cure;\n",
    "from pyclustering.utils import read_sample;\n",
    "kmeans = KMeans(n_clusters = 5)\n",
    "kmeans.fit(cluster_data)\n",
    "\n",
    "# Allocate three clusters.\n",
    "cure_instance = cure(cluster_data, 5);\n",
    "cure_instance.process();\n",
    "clusters = cure_instance.get_clusters();\n",
    "\n",
    "# Visualize allocated clusters.\n",
    "visualizer = cluster_visualizer();\n",
    "visualizer.append_clusters(clusters, cluster_data);\n",
    "visualizer.show();\n",
    "\n"
   ]
  },
  {
   "cell_type": "markdown",
   "metadata": {},
   "source": [
    "## Clustering the database with KMeans++ method using PyClustering API"
   ]
  },
  {
   "cell_type": "code",
   "execution_count": 1,
   "metadata": {},
   "outputs": [
    {
     "ename": "NameError",
     "evalue": "name 'cluster_data' is not defined",
     "output_type": "error",
     "traceback": [
      "\u001b[1;31m---------------------------------------------------------------------------\u001b[0m",
      "\u001b[1;31mNameError\u001b[0m                                 Traceback (most recent call last)",
      "\u001b[1;32m<ipython-input-1-a04d7f3e624d>\u001b[0m in \u001b[0;36m<module>\u001b[1;34m\u001b[0m\n\u001b[0;32m      4\u001b[0m \u001b[1;33m\u001b[0m\u001b[0m\n\u001b[0;32m      5\u001b[0m \u001b[1;31m# Prepare initial centers using K-Means++ method.\u001b[0m\u001b[1;33m\u001b[0m\u001b[1;33m\u001b[0m\u001b[1;33m\u001b[0m\u001b[0m\n\u001b[1;32m----> 6\u001b[1;33m \u001b[0minitial_centers\u001b[0m \u001b[1;33m=\u001b[0m \u001b[0mkmeans_plusplus_initializer\u001b[0m\u001b[1;33m(\u001b[0m\u001b[0mcluster_data\u001b[0m\u001b[1;33m,\u001b[0m \u001b[1;36m2\u001b[0m\u001b[1;33m)\u001b[0m\u001b[1;33m.\u001b[0m\u001b[0minitialize\u001b[0m\u001b[1;33m(\u001b[0m\u001b[1;33m)\u001b[0m\u001b[1;33m\u001b[0m\u001b[1;33m\u001b[0m\u001b[0m\n\u001b[0m\u001b[0;32m      7\u001b[0m \u001b[1;33m\u001b[0m\u001b[0m\n\u001b[0;32m      8\u001b[0m \u001b[1;31m# Create instance of K-Means algorithm with prepared centers.\u001b[0m\u001b[1;33m\u001b[0m\u001b[1;33m\u001b[0m\u001b[1;33m\u001b[0m\u001b[0m\n",
      "\u001b[1;31mNameError\u001b[0m: name 'cluster_data' is not defined"
     ]
    }
   ],
   "source": [
    "from pyclustering.cluster.kmeans import kmeans, kmeans_visualizer\n",
    "from pyclustering.cluster.center_initializer import kmeans_plusplus_initializer\n",
    "\n",
    "\n",
    "# Prepare initial centers using K-Means++ method.\n",
    "initial_centers = kmeans_plusplus_initializer(cluster_data, 2).initialize()\n",
    "\n",
    "# Create instance of K-Means algorithm with prepared centers.\n",
    "kmeans_instance = kmeans(cluster_data, initial_centers)\n",
    "\n",
    "# Run cluster analysis and obtain results.\n",
    "kmeans_instance.process()\n",
    "clusters = kmeans_instance.get_clusters()\n",
    "final_centers = kmeans_instance.get_centers()\n",
    "\n",
    "# Visualize obtained results\n",
    "kmeans_visualizer.show_clusters(cluster_data, clusters, final_centers)"
   ]
  },
  {
   "cell_type": "markdown",
   "metadata": {},
   "source": [
    "## Clustering the database with KMeans method using SKLearn API"
   ]
  },
  {
   "cell_type": "code",
   "execution_count": 11,
   "metadata": {},
   "outputs": [
    {
     "data": {
      "text/plain": [
       "array([[12.5084861 , 41.91005907],\n",
       "       [12.40191718, 41.82882208],\n",
       "       [12.47743336, 41.90293502],\n",
       "       [12.47944466, 41.85061273],\n",
       "       [12.2800649 , 41.79676618]])"
      ]
     },
     "execution_count": 11,
     "metadata": {},
     "output_type": "execute_result"
    }
   ],
   "source": [
    "kmeans = KMeans(n_clusters = 5, random_state = 0)\n",
    "kmeans.fit(cluster_data)\n",
    "kmeans.cluster_centers_"
   ]
  },
  {
   "cell_type": "code",
   "execution_count": null,
   "metadata": {},
   "outputs": [],
   "source": []
  }
 ],
 "metadata": {
  "kernelspec": {
   "display_name": "Python 3",
   "language": "python",
   "name": "python3"
  },
  "language_info": {
   "codemirror_mode": {
    "name": "ipython",
    "version": 3
   },
   "file_extension": ".py",
   "mimetype": "text/x-python",
   "name": "python",
   "nbconvert_exporter": "python",
   "pygments_lexer": "ipython3",
   "version": "3.7.1"
  }
 },
 "nbformat": 4,
 "nbformat_minor": 2
}
